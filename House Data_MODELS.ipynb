{
 "cells": [
  {
   "cell_type": "markdown",
   "id": "d7419b51",
   "metadata": {},
   "source": [
    "<h1><center>Práctica Aprendizaje Supervisado: Modelos.</center></h1>"
   ]
  },
  {
   "cell_type": "markdown",
   "id": "807a66b7",
   "metadata": {},
   "source": [
    "# 0. Librerías"
   ]
  },
  {
   "cell_type": "code",
   "execution_count": 1,
   "id": "32dcaecc",
   "metadata": {},
   "outputs": [],
   "source": [
    "# Paquetes y librerias\n",
    "import numpy as np\n",
    "import pandas as pd\n",
    "\n",
    "import seaborn as sns\n",
    "import matplotlib.pyplot as plt  \n",
    "\n",
    "%matplotlib inline"
   ]
  },
  {
   "cell_type": "code",
   "execution_count": 2,
   "id": "cae36579",
   "metadata": {},
   "outputs": [],
   "source": [
    "import warnings\n",
    "warnings.filterwarnings('ignore')"
   ]
  },
  {
   "cell_type": "markdown",
   "id": "ff17f242",
   "metadata": {},
   "source": [
    "En primer lugar, obtenemos los datos del análsis exploratorio hecho previamente ya habiendo separado en datos de entrenamiento y datos de test"
   ]
  },
  {
   "cell_type": "code",
   "execution_count": 3,
   "id": "884f0d8f",
   "metadata": {},
   "outputs": [],
   "source": [
    "# Guardamos los datos\n",
    "X_train = pd.read_csv('X_train.csv')\n",
    "X_train = X_train.drop('index',axis = 1)\n",
    "X_test = pd.read_csv('X_test.csv')\n",
    "X_test = X_test.drop('index',axis = 1)\n",
    "y_train = pd.read_csv('y_train.csv')\n",
    "y_test = pd.read_csv('y_test.csv')\n",
    "y_train_clas = pd.read_csv('y_train_clas.csv')\n",
    "y_test_clas = pd.read_csv('y_test_clas.csv')"
   ]
  },
  {
   "cell_type": "markdown",
   "id": "e6606521",
   "metadata": {},
   "source": [
    "# 3. Modelos"
   ]
  },
  {
   "cell_type": "markdown",
   "id": "b9d639a9",
   "metadata": {},
   "source": [
    "Para evaluar los distintos modelos vamos a tener en cuenta que:"
   ]
  },
  {
   "cell_type": "markdown",
   "id": "5a9f1e82",
   "metadata": {},
   "source": [
    "Para un problema de **clasificación** podemos emplear las medidas:"
   ]
  },
  {
   "cell_type": "markdown",
   "id": "a09df279",
   "metadata": {},
   "source": [
    "<img src=\"confusion_matix_example.png\">\n",
    "<center style=\"color:#888\">Métricas<br/></center>"
   ]
  },
  {
   "cell_type": "markdown",
   "id": "22b093f1",
   "metadata": {},
   "source": [
    "Importamos para ello las siguientes librerias"
   ]
  },
  {
   "cell_type": "code",
   "execution_count": 5,
   "id": "1552389e",
   "metadata": {},
   "outputs": [],
   "source": [
    "# Metricas para clasificacion\n",
    "from sklearn.metrics import accuracy_score, precision_score, recall_score, f1_score, classification_report, confusion_matrix, ConfusionMatrixDisplay"
   ]
  },
  {
   "cell_type": "markdown",
   "id": "2202775d",
   "metadata": {},
   "source": [
    "Para poder comparar los diferentes modelos vamos a guardar las métricas en un diccionario"
   ]
  },
  {
   "cell_type": "code",
   "execution_count": 6,
   "id": "49515090",
   "metadata": {},
   "outputs": [],
   "source": [
    "acc_train = {}\n",
    "acc_test = {}\n",
    "mc = {}\n",
    "precision = {}\n",
    "recall = {}"
   ]
  },
  {
   "cell_type": "markdown",
   "id": "99609565",
   "metadata": {},
   "source": [
    "Para un problema de **regresión** utilizamos las medidas:\n",
    "\n",
    "Sobre otro conjunto de evaluación $\\mathcal{D_{te}}$, podemos evaluar la calidad de las predicciones. Como $y$ es una variable continua ahora, no tiene sentido utilizar la tasa de aciertos o accuracy. Las más comunes son \n",
    "\n",
    "* Error cuadrático medio $\\text{MSE}(y, \\hat{y}) = \\frac{1}{n_\\text{samples}} \\sum_{i=0}^{n_\\text{samples} - 1} (y_i - \\hat{y}_i)^2$\n",
    "\n",
    "* Coeficiente de determinación $R^2(y, \\hat{y}) = 1 - \\frac{\\sum_{i=1}^{n} (y_i - \\hat{y}_i)^2}{\\sum_{i=1}^{n} (y_i - \\bar{y})^2}$"
   ]
  },
  {
   "cell_type": "code",
   "execution_count": 7,
   "id": "6fd51ace",
   "metadata": {},
   "outputs": [],
   "source": [
    "# Librerias para metricas de regresion\n",
    "from sklearn.metrics import mean_squared_error, r2_score"
   ]
  },
  {
   "cell_type": "markdown",
   "id": "c7f7da7f",
   "metadata": {},
   "source": [
    "Así, para realizar la comparación entre los modelos vamos a guardar las métricas de cada uno en los diccionarios:"
   ]
  },
  {
   "cell_type": "code",
   "execution_count": 8,
   "id": "1db7ee7d",
   "metadata": {},
   "outputs": [],
   "source": [
    "rmse = {}\n",
    "r2 = {}"
   ]
  },
  {
   "cell_type": "markdown",
   "id": "8dbf5f4a",
   "metadata": {},
   "source": [
    "También tendremos en cuenta la matriz de confusión para estos modelos. Para ello, agruparemos las predicciones en las diferentes categorias"
   ]
  },
  {
   "cell_type": "markdown",
   "id": "d5e1b33e",
   "metadata": {},
   "source": [
    "## 3.1 Regresión lineal"
   ]
  },
  {
   "cell_type": "markdown",
   "id": "96fea219",
   "metadata": {},
   "source": [
    "El modelo de regresión lineal tiene la siguiente forma parámetrica:\n",
    "\n",
    "$$\n",
    "\\hat{y} = \\beta_0 + \\beta_1 x_1 \\ldots + \\beta_p x_p \n",
    "$$\n",
    "\n",
    "donde $\\hat{y} \\in \\mathbb{R}$ es la variable a predecir y los datos tienen $p$ columnas, $x \\in \\mathbb{R}^p$. \n",
    "\n",
    "Asumiendo un conjunto de datos de entrenamiento, $\\mathcal{D_{tr}} = \\lbrace (x, y) \\rbrace$, los parámetros $\\beta, \\beta_0$ se pueden ajustar resolviendo el siguiente problema de optimización (mínimos cuadrados):\n",
    "\n",
    "$$\n",
    "\\min_{\\beta, \\beta_0} \\sum_{x \\in \\mathcal{D_{tr}}} (\\hat{y} - y )^2 = \\min_{\\beta, \\beta_0} \\sum_{x \\in \\mathcal{D_{tr}}} (\\beta^\\intercal x + \\beta_0 - y )^2\n",
    "$$"
   ]
  },
  {
   "cell_type": "code",
   "execution_count": 9,
   "id": "6c7b6503",
   "metadata": {},
   "outputs": [],
   "source": [
    "# Librerias\n",
    "from sklearn.linear_model import LinearRegression"
   ]
  },
  {
   "cell_type": "markdown",
   "id": "11d7c736",
   "metadata": {},
   "source": [
    "Ajustamos el modelo de regresión lineal"
   ]
  },
  {
   "cell_type": "code",
   "execution_count": 10,
   "id": "b49931c8",
   "metadata": {},
   "outputs": [],
   "source": [
    "# Ajustamos el modelo de regresion lineal \n",
    "reg = LinearRegression()\n",
    "reg.fit(X_train, y_train)\n",
    "\n",
    "# Predicciones\n",
    "y_pred = reg.predict(X_test)"
   ]
  },
  {
   "cell_type": "markdown",
   "id": "9d529d32",
   "metadata": {},
   "source": [
    "En primer lugar, vemos los coeficientes del modelo. A partir de estos coeficientes, podemos determinar qué características son más relevantes a la hora de predecir el precio de las casas."
   ]
  },
  {
   "cell_type": "code",
   "execution_count": 11,
   "id": "72e3adac",
   "metadata": {
    "scrolled": true
   },
   "outputs": [
    {
     "name": "stdout",
     "output_type": "stream",
     "text": [
      "Término independiente: \n",
      " [12.83120791]\n",
      "Coeficientes: \n",
      " [[ 0.31192866 -0.02827324  0.21321956  0.0043072  -0.01052641  0.03714938\n",
      "   0.23199301  0.2133206   0.31642743  0.57443016 -0.00630929  0.14044341\n",
      "   0.17482641  0.22179074]]\n"
     ]
    }
   ],
   "source": [
    "print('Término independiente: \\n', reg.intercept_)\n",
    "print('Coeficientes: \\n', reg.coef_)"
   ]
  },
  {
   "cell_type": "markdown",
   "id": "ddcb839a",
   "metadata": {},
   "source": [
    "Como se trata de un modelo de regresión podemos validarlo con los residuos, junto con las correspondientes métricas.\n",
    "\n",
    "Primero, estudiamos los residuos del modelo para comprobar las hipótesis de normalidad, indepedendencia y homocedasticidad.\n",
    "Este estudio lo comprobaremos una única vez. "
   ]
  },
  {
   "cell_type": "code",
   "execution_count": 12,
   "id": "0f0859e8",
   "metadata": {},
   "outputs": [],
   "source": [
    "# Paquetes\n",
    "import scipy.stats as stats\n",
    "import statsmodels.api as sm"
   ]
  },
  {
   "cell_type": "code",
   "execution_count": 13,
   "id": "62737372",
   "metadata": {},
   "outputs": [
    {
     "data": {
      "image/png": "[encoded data removed]",
      "text/plain": [
       "<Figure size 720x360 with 3 Axes>"
      ]
     },
     "metadata": {
      "needs_background": "light"
     },
     "output_type": "display_data"
    }
   ],
   "source": [
    "# Residuos\n",
    "res = y_test - y_pred\n",
    "\n",
    "# Graficos\n",
    "fig, axs = plt.subplots(1, 3, figsize=(10, 5))\n",
    "\n",
    "axs[0].scatter(y_pred,res, alpha = 0.3, color='blue') # Res vs fitt\n",
    "axs[0].axhline(y=0, color='r', linestyle='--')\n",
    "axs[1].hist(res, bins=30, alpha = 0.6, color='blue') # Histograma de los residuos\n",
    "#axs[2].qqplot(res, line='45')\n",
    "\n",
    "plt.show()"
   ]
  },
  {
   "cell_type": "markdown",
   "id": "d759211c",
   "metadata": {},
   "source": [
    "En segundo lugar, calculamos las métricas y vemos el ajuste del modelo."
   ]
  },
  {
   "cell_type": "code",
   "execution_count": 14,
   "id": "b3969842",
   "metadata": {},
   "outputs": [
    {
     "name": "stdout",
     "output_type": "stream",
     "text": [
      "Root Mean squared error: 0.29\n",
      "Variance score: 0.63\n"
     ]
    }
   ],
   "source": [
    "# Metricas\n",
    "rmse_lr = np.sqrt(mean_squared_error(y_test, y_pred))\n",
    "r2_lr  = r2_score(y_test, y_pred)\n",
    "# Error Cuadrado Medio\n",
    "print(\"Root Mean squared error: %.2f\" % rmse_lr)\n",
    "# Puntaje de Varianza. El mejor puntaje es un 1.0\n",
    "print('Variance score: %.2f' % r2_lr)"
   ]
  },
  {
   "cell_type": "markdown",
   "id": "b7e1a07f",
   "metadata": {},
   "source": [
    "Por último, almacenamos los datos para la comparativa final"
   ]
  },
  {
   "cell_type": "code",
   "execution_count": 15,
   "id": "960cece6",
   "metadata": {
    "scrolled": true
   },
   "outputs": [],
   "source": [
    "# Almacenamos los datos\n",
    "rmse['LR'] = rmse_lr\n",
    "r2['LR'] = r2_lr"
   ]
  },
  {
   "cell_type": "markdown",
   "id": "1b500813",
   "metadata": {},
   "source": [
    "Como ya comentamos, podemos estudiar la matriz de confusión para así poder comparar todos lo métodos. Para ello, clasificamos las predicciones hechas por el modelo de regresión lineal en las tres categoricas y comparamos con los datos de *y_test_clas*."
   ]
  },
  {
   "cell_type": "code",
   "execution_count": 16,
   "id": "baf1655e",
   "metadata": {
    "scrolled": false
   },
   "outputs": [
    {
     "data": {
      "image/png": "[encoded data removed]",
      "text/plain": [
       "<Figure size 432x288 with 2 Axes>"
      ]
     },
     "metadata": {
      "needs_background": "light"
     },
     "output_type": "display_data"
    }
   ],
   "source": [
    "# Matriz de confusion para regresion lienal\n",
    "bins = [11.224,12.78, 13.218, 14.897]\n",
    "y_pred = pd.cut(y_pred.flatten(), bins=bins, labels=False)\n",
    "\n",
    "mc_lr = confusion_matrix(y_test_clas, y_pred)\n",
    "ConfusionMatrixDisplay(confusion_matrix=mc_lr).plot();\n",
    "\n",
    "# Almacenamos los datos\n",
    "mc['LR'] = mc_lr"
   ]
  },
  {
   "cell_type": "markdown",
   "id": "5512f5d2",
   "metadata": {},
   "source": [
    "## 3.2 K-NN"
   ]
  },
  {
   "cell_type": "markdown",
   "id": "18f5e62f",
   "metadata": {},
   "source": [
    "El algoritmo de los k vecinos más cercanos es un algoritmo de aprendizaje supervisado usado tanto en problemas de regresión como en problemas de clasificación. Es un método no paramétrico que asume que existen similaridades en la proximidad sin necesidad de que los datos respondan a una linealidad. \n",
    "\n",
    "El algoritmo calcula las distancias entre los datos de test y todos los puntos de los datos de entrenamiento, escogiendo un número $k$ de distancias mínimas. Para realizar la predicción se realiza un promedio de los valores dependientes."
   ]
  },
  {
   "cell_type": "markdown",
   "id": "8666d28f",
   "metadata": {},
   "source": [
    "**Regresión**"
   ]
  },
  {
   "cell_type": "markdown",
   "id": "9137364d",
   "metadata": {},
   "source": [
    "En primer lugar, queremos encontrar el número de vecinos óptimo. Para ello, creamos una rejilla con diferentes valores de $k$ , que iremos recorriendo, y almacenando sus correspondientes métricas al ajustar el modelo. Así, tomaremos aquel $k$ que aporte un mejor valor para las métricas."
   ]
  },
  {
   "cell_type": "code",
   "execution_count": 17,
   "id": "2ed6f515",
   "metadata": {},
   "outputs": [],
   "source": [
    "# Librerias\n",
    "from sklearn.neighbors import KNeighborsRegressor"
   ]
  },
  {
   "cell_type": "code",
   "execution_count": 18,
   "id": "c9dab0b8",
   "metadata": {},
   "outputs": [
    {
     "name": "stdout",
     "output_type": "stream",
     "text": [
      "Mejor hiperparámtero RMSE: 7\n",
      "Mejor hiperparámetro R2: 7\n"
     ]
    }
   ],
   "source": [
    "ks = list(range(1,21))\n",
    "\n",
    "# En este diccionario iremos guardando las metricas sobre test asociadas a cada valor de $k$\n",
    "rmses = {}\n",
    "r2s = {}\n",
    "\n",
    "# Vamos recorriendo la rejilla con un bucle for\n",
    "for k in ks:\n",
    "    \n",
    "    # Definimos el modelo con el valor de hiperparametro correspondiente\n",
    "    knn = KNeighborsRegressor(n_neighbors=k)\n",
    "    \n",
    "    # Ajustamos a los datos de entrenamiento\n",
    "    knn.fit(X_train, y_train)\n",
    "    \n",
    "    # Hacemos predicciones sobre los datos de test\n",
    "    y_pred = knn.predict(X_test)\n",
    "    \n",
    "    # Evaluamos y guardamos la metrica correspondiente \n",
    "    rmse_m = np.sqrt(mean_squared_error(y_test, y_pred))\n",
    "    r2_m  = r2_score(y_test, y_pred)\n",
    "    rmses[k] = rmse_m\n",
    "    r2s[k] = r2_m\n",
    "\n",
    "min_rmses = min(rmses,key=rmses.get)\n",
    "max_r2s = max(r2s, key=r2s.get)\n",
    "    \n",
    "print(\"Mejor hiperparámtero RMSE:\", min_rmses)\n",
    "print(\"Mejor hiperparámetro R2:\", max_r2s)"
   ]
  },
  {
   "cell_type": "markdown",
   "id": "1a216555",
   "metadata": {},
   "source": [
    "Mediante los gráficos de codo, podemos decidir el número $k$ de vecinos óptimo para el problema."
   ]
  },
  {
   "cell_type": "code",
   "execution_count": 19,
   "id": "c51dcad9",
   "metadata": {
    "scrolled": true
   },
   "outputs": [
    {
     "data": {
      "image/png": "[encoded data removed]",
      "text/plain": [
       "<Figure size 432x288 with 1 Axes>"
      ]
     },
     "metadata": {
      "needs_background": "light"
     },
     "output_type": "display_data"
    }
   ],
   "source": [
    "# Error cuadratico medio para el test\n",
    "ks_arr = np.fromiter(rmses.keys(), dtype=int)\n",
    "rmses_arr = np.fromiter(rmses.values(), dtype=float)\n",
    "\n",
    "plt.plot(ks_arr, rmses_arr, 'ok')\n",
    "plt.grid(True)\n",
    "plt.xlabel('Hiperparámetro $k$');\n",
    "plt.ylabel('R^2 para el test');"
   ]
  },
  {
   "cell_type": "code",
   "execution_count": 20,
   "id": "f3318428",
   "metadata": {
    "scrolled": true
   },
   "outputs": [
    {
     "data": {
      "image/png": "[encoded data removed]",
      "text/plain": [
       "<Figure size 432x288 with 1 Axes>"
      ]
     },
     "metadata": {
      "needs_background": "light"
     },
     "output_type": "display_data"
    }
   ],
   "source": [
    "# R2 para el test\n",
    "ks_arr = np.fromiter(r2s.keys(), dtype=int)\n",
    "r2s_arr = np.fromiter(r2s.values(), dtype=float)\n",
    "\n",
    "plt.plot(ks_arr, r2s_arr, 'ok')\n",
    "plt.grid(True)\n",
    "plt.xlabel('Hiperparámetro $k$');\n",
    "plt.ylabel('R^2 para el test');"
   ]
  },
  {
   "cell_type": "markdown",
   "id": "ae471c54",
   "metadata": {},
   "source": [
    "Así, decidimos ajustar el modelo con $k=5$ vecinos"
   ]
  },
  {
   "cell_type": "code",
   "execution_count": 22,
   "id": "3446ebbe",
   "metadata": {},
   "outputs": [],
   "source": [
    "# Definimos el modelo con el valor de hiperparametro correspondiente\n",
    "knn = KNeighborsRegressor(n_neighbors=5)\n",
    "    \n",
    "# Ajustamos a los datos de entrenamiento\n",
    "knn.fit(X_train, y_train)\n",
    "    \n",
    "# Hacemos predicciones sobre los datos de test\n",
    "y_pred = knn.predict(X_test)"
   ]
  },
  {
   "cell_type": "markdown",
   "id": "5ed5c624",
   "metadata": {},
   "source": [
    "Calculamos las medidas de error y ajuste del modelo"
   ]
  },
  {
   "cell_type": "code",
   "execution_count": 23,
   "id": "a81570cd",
   "metadata": {},
   "outputs": [
    {
     "name": "stdout",
     "output_type": "stream",
     "text": [
      "Root Mean squared error: 0.22\n",
      "Variance score: 0.79\n"
     ]
    }
   ],
   "source": [
    "# Medidas de error\n",
    "rmse_knn = np.sqrt(mean_squared_error(y_test, y_pred))\n",
    "r2_knn  = r2_score(y_test, y_pred)\n",
    "# Error Cuadrado Medio\n",
    "print(\"Root Mean squared error: %.2f\" % rmse_knn)\n",
    "# Puntaje de Varianza. El mejor puntaje es un 1.0\n",
    "print('Variance score: %.2f' % r2_knn)"
   ]
  },
  {
   "cell_type": "code",
   "execution_count": 24,
   "id": "cf20d3cd",
   "metadata": {},
   "outputs": [],
   "source": [
    "# Almacenamos los datos\n",
    "rmse['KNN'] = rmse_knn\n",
    "r2['KNN'] = r2_knn"
   ]
  },
  {
   "cell_type": "markdown",
   "id": "9ffba9f8",
   "metadata": {},
   "source": [
    "Nuevante, aun tratándose de un problema de regresión, hallamos la matriz de confusión."
   ]
  },
  {
   "cell_type": "code",
   "execution_count": 25,
   "id": "39e5b356",
   "metadata": {
    "scrolled": true
   },
   "outputs": [
    {
     "data": {
      "image/png": "[encoded data removed]",
      "text/plain": [
       "<Figure size 432x288 with 2 Axes>"
      ]
     },
     "metadata": {
      "needs_background": "light"
     },
     "output_type": "display_data"
    }
   ],
   "source": [
    "# Matriz de confusion para KNN Regressor\n",
    "y_pred = pd.cut(y_pred.flatten(), bins=bins, labels=False)\n",
    "\n",
    "mc_knn_reg = confusion_matrix(y_test_clas, y_pred)\n",
    "ConfusionMatrixDisplay(confusion_matrix=mc_knn_reg).plot();\n",
    "\n",
    "# Almacenamos los datos\n",
    "mc['knn_reg'] = mc_knn_reg"
   ]
  },
  {
   "cell_type": "markdown",
   "id": "4eae6573",
   "metadata": {},
   "source": [
    "**Clasificación**"
   ]
  },
  {
   "cell_type": "markdown",
   "id": "6677c615",
   "metadata": {},
   "source": [
    "Otra opción es estudiar el problema desde el punto de vista de la clasificación.\n",
    "\n",
    "Primero, buscamos el número óptimo de vecions $k$ recorriendo la rejilla."
   ]
  },
  {
   "cell_type": "code",
   "execution_count": 26,
   "id": "4838430d",
   "metadata": {},
   "outputs": [],
   "source": [
    "# Librerias\n",
    "from sklearn.neighbors import KNeighborsClassifier"
   ]
  },
  {
   "cell_type": "code",
   "execution_count": 27,
   "id": "89945e25",
   "metadata": {},
   "outputs": [
    {
     "name": "stdout",
     "output_type": "stream",
     "text": [
      "Mejor hiperparámtero: 17\n"
     ]
    }
   ],
   "source": [
    "ks = list(range(1, 30))\n",
    "\n",
    "# En este diccionario iremos guardando las accuracies sobre test asociadas a cada valor de $k$\n",
    "accs = {}\n",
    "\n",
    "# Vamos recorriendo la rejilla con un bucle for...\n",
    "for k in ks:\n",
    "    \n",
    "    # Definimos el modelo con el valor de hiperparametro correspondiente\n",
    "    knn = KNeighborsClassifier(n_neighbors=k)\n",
    "    \n",
    "    # Ajustamos a los datos de entrenamiento\n",
    "    knn.fit(X_train, y_train_clas.values)\n",
    "    \n",
    "    # Hacemos predicciones sobre los datos de test\n",
    "    y_pred = knn.predict(X_test)\n",
    "    \n",
    "    # Evaluamos y guardamos la metrica correspondiente (en este caso accuracy)\n",
    "    acc = accuracy_score(y_test_clas, y_pred)\n",
    "    accs[k] = acc\n",
    "    \n",
    "max_acc = max(accs, key=accs.get)    \n",
    "print(\"Mejor hiperparámtero:\", max_acc)"
   ]
  },
  {
   "cell_type": "code",
   "execution_count": 28,
   "id": "19c89b01",
   "metadata": {
    "scrolled": true
   },
   "outputs": [
    {
     "data": {
      "image/png": "[encoded data removed]",
      "text/plain": [
       "<Figure size 432x288 with 1 Axes>"
      ]
     },
     "metadata": {
      "needs_background": "light"
     },
     "output_type": "display_data"
    }
   ],
   "source": [
    "ks_arr = np.fromiter(accs.keys(), dtype=int)\n",
    "accs_arr = np.fromiter(accs.values(), dtype=float)\n",
    "\n",
    "plt.plot(ks_arr, accs_arr, 'ok')\n",
    "plt.grid(True)\n",
    "plt.xlabel('Hiperparámetro $k$');\n",
    "plt.ylabel('Acc. sobre test');"
   ]
  },
  {
   "cell_type": "markdown",
   "id": "1a4066ba",
   "metadata": {},
   "source": [
    "A la vista del gráfico, decidimos tomar $k=5$ vecinos."
   ]
  },
  {
   "cell_type": "code",
   "execution_count": 29,
   "id": "aec041fa",
   "metadata": {},
   "outputs": [],
   "source": [
    "# Definimos el modelo con el valor de hiperparametro correspondiente\n",
    "knn = KNeighborsClassifier(n_neighbors=5)\n",
    "    \n",
    "# Ajustamos a los datos de entrenamiento\n",
    "knn.fit(X_train, y_train_clas)\n",
    "\n",
    "# Hacemos predicciones sobre los datos de test\n",
    "y_pred_train_knn = knn.predict(X_train)\n",
    "# Hacemos predicciones sobre los datos de test\n",
    "y_pred_knn = knn.predict(X_test)"
   ]
  },
  {
   "cell_type": "markdown",
   "id": "7d4c15fd",
   "metadata": {},
   "source": [
    "En primer lugar, vemos cómo de bueno ha sido el entrenamiento"
   ]
  },
  {
   "cell_type": "code",
   "execution_count": 30,
   "id": "d2e85c91",
   "metadata": {
    "scrolled": true
   },
   "outputs": [
    {
     "name": "stdout",
     "output_type": "stream",
     "text": [
      "Accuracy train KNN:  0.8459876098544878\n"
     ]
    }
   ],
   "source": [
    "# Ajuste del entrenamiento\n",
    "acc_train_knn = accuracy_score(y_pred_train_knn,y_train_clas)\n",
    "print('Accuracy train KNN: ', acc_train_knn)"
   ]
  },
  {
   "cell_type": "markdown",
   "id": "e853d785",
   "metadata": {},
   "source": [
    "Estudiamos el ajuste del modelo para los datos de test con las diferentes métricas descritas al principio."
   ]
  },
  {
   "cell_type": "code",
   "execution_count": 31,
   "id": "925e2257",
   "metadata": {},
   "outputs": [
    {
     "name": "stdout",
     "output_type": "stream",
     "text": [
      "Accuracy test KNN:  0.7768067226890756\n"
     ]
    }
   ],
   "source": [
    "# Ajuste del modelo para los datos de test\n",
    "acc_test_knn = accuracy_score(y_pred_knn, y_test_clas)\n",
    "print('Accuracy test KNN: ', acc_test_knn)"
   ]
  },
  {
   "cell_type": "markdown",
   "id": "37d4bb0c",
   "metadata": {},
   "source": [
    "Vemos el gráfico de la matriz de confusión"
   ]
  },
  {
   "cell_type": "code",
   "execution_count": 32,
   "id": "46307392",
   "metadata": {},
   "outputs": [
    {
     "data": {
      "image/png": "[encoded data removed]",
      "text/plain": [
       "<Figure size 432x288 with 2 Axes>"
      ]
     },
     "metadata": {
      "needs_background": "light"
     },
     "output_type": "display_data"
    }
   ],
   "source": [
    "# Grafico de matriz de confusion\n",
    "mc_knn = confusion_matrix(y_test_clas, y_pred_knn)\n",
    "ConfusionMatrixDisplay(confusion_matrix=mc_knn).plot();"
   ]
  },
  {
   "cell_type": "markdown",
   "id": "fc00f800",
   "metadata": {},
   "source": [
    "Guardamos las métricas"
   ]
  },
  {
   "cell_type": "code",
   "execution_count": 33,
   "id": "da59f582",
   "metadata": {},
   "outputs": [],
   "source": [
    "# Almacenamos los datos\n",
    "acc_test['knn'] = acc_test_knn\n",
    "acc_train['knn'] = acc_train_knn\n",
    "mc['knn'] = mc_knn\n",
    "precision['knn'] = precision_score(y_test_clas, y_pred_knn, average='weighted')\n",
    "recall['knn'] = recall_score(y_test_clas, y_pred_knn,average='weighted')"
   ]
  },
  {
   "cell_type": "markdown",
   "id": "70d16e0c",
   "metadata": {},
   "source": [
    "## 3.3 Árbol de decisión simple"
   ]
  },
  {
   "cell_type": "markdown",
   "id": "821fe3f6",
   "metadata": {},
   "source": [
    "Un árbol de decisión es un modelo de aprendizaje automático que se utiliza para predecir una variable objetivo a partir de un conjunto de variables de entrada. El árbol se divide en ramas que representan decisiones basadas en las variables de entrada, y las hojas del árbol representan la predicción final para la variable objetivo.\n",
    "\n",
    "Cada nodo en el árbol corresponde a una pregunta sobre una de las variables de entrada y la respuesta a esa pregunta determina en qué rama del árbol continuar. El objetivo es crear un árbol que sea lo suficientemente simple como para ser fácilmente interpretable, pero lo suficientemente preciso como para hacer predicciones precisas."
   ]
  },
  {
   "cell_type": "markdown",
   "id": "9866425f",
   "metadata": {},
   "source": [
    "**Regresión**"
   ]
  },
  {
   "cell_type": "code",
   "execution_count": 34,
   "id": "1a8b7d37",
   "metadata": {},
   "outputs": [],
   "source": [
    "# Librerias\n",
    "from sklearn.tree import DecisionTreeRegressor"
   ]
  },
  {
   "cell_type": "code",
   "execution_count": 35,
   "id": "bb09fe07",
   "metadata": {},
   "outputs": [],
   "source": [
    "# Definimos el modelo\n",
    "tree_regressor = DecisionTreeRegressor()\n",
    "\n",
    "# Ajustamos el modelo\n",
    "tree_regressor.fit(X_train, y_train)\n",
    "\n",
    "# Realizamos predicciones sobre test\n",
    "y_pred = tree_regressor.predict(X_test)"
   ]
  },
  {
   "cell_type": "code",
   "execution_count": 36,
   "id": "964cc4f1",
   "metadata": {
    "scrolled": true
   },
   "outputs": [
    {
     "name": "stdout",
     "output_type": "stream",
     "text": [
      "Root Mean squared error: 0.25\n",
      "Variance score: 0.73\n"
     ]
    }
   ],
   "source": [
    "# Medidas de error\n",
    "rmse_tree_reg = np.sqrt(mean_squared_error(y_test, y_pred))\n",
    "r2_tree_reg  = r2_score(y_test, y_pred)\n",
    "# Error Cuadrado Medio\n",
    "print(\"Root Mean squared error: %.2f\" % rmse_tree_reg)\n",
    "# Puntaje de Varianza\n",
    "print('Variance score: %.2f' % r2_tree_reg)"
   ]
  },
  {
   "cell_type": "code",
   "execution_count": 37,
   "id": "14684da5",
   "metadata": {},
   "outputs": [],
   "source": [
    "# Almacenamos los datos\n",
    "rmse['Arbol'] = rmse_tree_reg\n",
    "r2['Arbol'] = r2_tree_reg"
   ]
  },
  {
   "cell_type": "code",
   "execution_count": 38,
   "id": "cf6425a8",
   "metadata": {
    "scrolled": false
   },
   "outputs": [
    {
     "ename": "ValueError",
     "evalue": "Input contains NaN, infinity or a value too large for dtype('float64').",
     "output_type": "error",
     "traceback": [
      "\u001b[1;31m---------------------------------------------------------------------------\u001b[0m",
      "\u001b[1;31mValueError\u001b[0m                                Traceback (most recent call last)",
      "Input \u001b[1;32mIn [38]\u001b[0m, in \u001b[0;36m<cell line: 4>\u001b[1;34m()\u001b[0m\n\u001b[0;32m      1\u001b[0m \u001b[38;5;66;03m# Matriz de confusion para Tree Regressor\u001b[39;00m\n\u001b[0;32m      2\u001b[0m y_pred \u001b[38;5;241m=\u001b[39m pd\u001b[38;5;241m.\u001b[39mcut(y_pred\u001b[38;5;241m.\u001b[39mflatten(), bins\u001b[38;5;241m=\u001b[39mbins, labels\u001b[38;5;241m=\u001b[39m\u001b[38;5;28;01mFalse\u001b[39;00m)\n\u001b[1;32m----> 4\u001b[0m mc_tree_reg \u001b[38;5;241m=\u001b[39m \u001b[43mconfusion_matrix\u001b[49m\u001b[43m(\u001b[49m\u001b[43my_test_clas\u001b[49m\u001b[43m,\u001b[49m\u001b[43m \u001b[49m\u001b[43my_pred\u001b[49m\u001b[43m)\u001b[49m\n\u001b[0;32m      5\u001b[0m ConfusionMatrixDisplay(confusion_matrix\u001b[38;5;241m=\u001b[39mmc_tree_reg)\u001b[38;5;241m.\u001b[39mplot();\n\u001b[0;32m      7\u001b[0m \u001b[38;5;66;03m# Almacenamos los datos\u001b[39;00m\n",
      "File \u001b[1;32m~\\anaconda3\\lib\\site-packages\\sklearn\\metrics\\_classification.py:307\u001b[0m, in \u001b[0;36mconfusion_matrix\u001b[1;34m(y_true, y_pred, labels, sample_weight, normalize)\u001b[0m\n\u001b[0;32m    222\u001b[0m \u001b[38;5;28;01mdef\u001b[39;00m \u001b[38;5;21mconfusion_matrix\u001b[39m(\n\u001b[0;32m    223\u001b[0m     y_true, y_pred, \u001b[38;5;241m*\u001b[39m, labels\u001b[38;5;241m=\u001b[39m\u001b[38;5;28;01mNone\u001b[39;00m, sample_weight\u001b[38;5;241m=\u001b[39m\u001b[38;5;28;01mNone\u001b[39;00m, normalize\u001b[38;5;241m=\u001b[39m\u001b[38;5;28;01mNone\u001b[39;00m\n\u001b[0;32m    224\u001b[0m ):\n\u001b[0;32m    225\u001b[0m     \u001b[38;5;124;03m\"\"\"Compute confusion matrix to evaluate the accuracy of a classification.\u001b[39;00m\n\u001b[0;32m    226\u001b[0m \n\u001b[0;32m    227\u001b[0m \u001b[38;5;124;03m    By definition a confusion matrix :math:`C` is such that :math:`C_{i, j}`\u001b[39;00m\n\u001b[1;32m   (...)\u001b[0m\n\u001b[0;32m    305\u001b[0m \u001b[38;5;124;03m    (0, 2, 1, 1)\u001b[39;00m\n\u001b[0;32m    306\u001b[0m \u001b[38;5;124;03m    \"\"\"\u001b[39;00m\n\u001b[1;32m--> 307\u001b[0m     y_type, y_true, y_pred \u001b[38;5;241m=\u001b[39m \u001b[43m_check_targets\u001b[49m\u001b[43m(\u001b[49m\u001b[43my_true\u001b[49m\u001b[43m,\u001b[49m\u001b[43m \u001b[49m\u001b[43my_pred\u001b[49m\u001b[43m)\u001b[49m\n\u001b[0;32m    308\u001b[0m     \u001b[38;5;28;01mif\u001b[39;00m y_type \u001b[38;5;129;01mnot\u001b[39;00m \u001b[38;5;129;01min\u001b[39;00m (\u001b[38;5;124m\"\u001b[39m\u001b[38;5;124mbinary\u001b[39m\u001b[38;5;124m\"\u001b[39m, \u001b[38;5;124m\"\u001b[39m\u001b[38;5;124mmulticlass\u001b[39m\u001b[38;5;124m\"\u001b[39m):\n\u001b[0;32m    309\u001b[0m         \u001b[38;5;28;01mraise\u001b[39;00m \u001b[38;5;167;01mValueError\u001b[39;00m(\u001b[38;5;124m\"\u001b[39m\u001b[38;5;132;01m%s\u001b[39;00m\u001b[38;5;124m is not supported\u001b[39m\u001b[38;5;124m\"\u001b[39m \u001b[38;5;241m%\u001b[39m y_type)\n",
      "File \u001b[1;32m~\\anaconda3\\lib\\site-packages\\sklearn\\metrics\\_classification.py:86\u001b[0m, in \u001b[0;36m_check_targets\u001b[1;34m(y_true, y_pred)\u001b[0m\n\u001b[0;32m     84\u001b[0m check_consistent_length(y_true, y_pred)\n\u001b[0;32m     85\u001b[0m type_true \u001b[38;5;241m=\u001b[39m type_of_target(y_true)\n\u001b[1;32m---> 86\u001b[0m type_pred \u001b[38;5;241m=\u001b[39m \u001b[43mtype_of_target\u001b[49m\u001b[43m(\u001b[49m\u001b[43my_pred\u001b[49m\u001b[43m)\u001b[49m\n\u001b[0;32m     88\u001b[0m y_type \u001b[38;5;241m=\u001b[39m {type_true, type_pred}\n\u001b[0;32m     89\u001b[0m \u001b[38;5;28;01mif\u001b[39;00m y_type \u001b[38;5;241m==\u001b[39m {\u001b[38;5;124m\"\u001b[39m\u001b[38;5;124mbinary\u001b[39m\u001b[38;5;124m\"\u001b[39m, \u001b[38;5;124m\"\u001b[39m\u001b[38;5;124mmulticlass\u001b[39m\u001b[38;5;124m\"\u001b[39m}:\n",
      "File \u001b[1;32m~\\anaconda3\\lib\\site-packages\\sklearn\\utils\\multiclass.py:324\u001b[0m, in \u001b[0;36mtype_of_target\u001b[1;34m(y)\u001b[0m\n\u001b[0;32m    321\u001b[0m \u001b[38;5;66;03m# check float and contains non-integer float values\u001b[39;00m\n\u001b[0;32m    322\u001b[0m \u001b[38;5;28;01mif\u001b[39;00m y\u001b[38;5;241m.\u001b[39mdtype\u001b[38;5;241m.\u001b[39mkind \u001b[38;5;241m==\u001b[39m \u001b[38;5;124m\"\u001b[39m\u001b[38;5;124mf\u001b[39m\u001b[38;5;124m\"\u001b[39m \u001b[38;5;129;01mand\u001b[39;00m np\u001b[38;5;241m.\u001b[39many(y \u001b[38;5;241m!=\u001b[39m y\u001b[38;5;241m.\u001b[39mastype(\u001b[38;5;28mint\u001b[39m)):\n\u001b[0;32m    323\u001b[0m     \u001b[38;5;66;03m# [.1, .2, 3] or [[.1, .2, 3]] or [[1., .2]] and not [1., 2., 3.]\u001b[39;00m\n\u001b[1;32m--> 324\u001b[0m     \u001b[43m_assert_all_finite\u001b[49m\u001b[43m(\u001b[49m\u001b[43my\u001b[49m\u001b[43m)\u001b[49m\n\u001b[0;32m    325\u001b[0m     \u001b[38;5;28;01mreturn\u001b[39;00m \u001b[38;5;124m\"\u001b[39m\u001b[38;5;124mcontinuous\u001b[39m\u001b[38;5;124m\"\u001b[39m \u001b[38;5;241m+\u001b[39m suffix\n\u001b[0;32m    327\u001b[0m \u001b[38;5;28;01mif\u001b[39;00m (\u001b[38;5;28mlen\u001b[39m(np\u001b[38;5;241m.\u001b[39munique(y)) \u001b[38;5;241m>\u001b[39m \u001b[38;5;241m2\u001b[39m) \u001b[38;5;129;01mor\u001b[39;00m (y\u001b[38;5;241m.\u001b[39mndim \u001b[38;5;241m>\u001b[39m\u001b[38;5;241m=\u001b[39m \u001b[38;5;241m2\u001b[39m \u001b[38;5;129;01mand\u001b[39;00m \u001b[38;5;28mlen\u001b[39m(y[\u001b[38;5;241m0\u001b[39m]) \u001b[38;5;241m>\u001b[39m \u001b[38;5;241m1\u001b[39m):\n",
      "File \u001b[1;32m~\\anaconda3\\lib\\site-packages\\sklearn\\utils\\validation.py:114\u001b[0m, in \u001b[0;36m_assert_all_finite\u001b[1;34m(X, allow_nan, msg_dtype)\u001b[0m\n\u001b[0;32m    107\u001b[0m     \u001b[38;5;28;01mif\u001b[39;00m (\n\u001b[0;32m    108\u001b[0m         allow_nan\n\u001b[0;32m    109\u001b[0m         \u001b[38;5;129;01mand\u001b[39;00m np\u001b[38;5;241m.\u001b[39misinf(X)\u001b[38;5;241m.\u001b[39many()\n\u001b[0;32m    110\u001b[0m         \u001b[38;5;129;01mor\u001b[39;00m \u001b[38;5;129;01mnot\u001b[39;00m allow_nan\n\u001b[0;32m    111\u001b[0m         \u001b[38;5;129;01mand\u001b[39;00m \u001b[38;5;129;01mnot\u001b[39;00m np\u001b[38;5;241m.\u001b[39misfinite(X)\u001b[38;5;241m.\u001b[39mall()\n\u001b[0;32m    112\u001b[0m     ):\n\u001b[0;32m    113\u001b[0m         type_err \u001b[38;5;241m=\u001b[39m \u001b[38;5;124m\"\u001b[39m\u001b[38;5;124minfinity\u001b[39m\u001b[38;5;124m\"\u001b[39m \u001b[38;5;28;01mif\u001b[39;00m allow_nan \u001b[38;5;28;01melse\u001b[39;00m \u001b[38;5;124m\"\u001b[39m\u001b[38;5;124mNaN, infinity\u001b[39m\u001b[38;5;124m\"\u001b[39m\n\u001b[1;32m--> 114\u001b[0m         \u001b[38;5;28;01mraise\u001b[39;00m \u001b[38;5;167;01mValueError\u001b[39;00m(\n\u001b[0;32m    115\u001b[0m             msg_err\u001b[38;5;241m.\u001b[39mformat(\n\u001b[0;32m    116\u001b[0m                 type_err, msg_dtype \u001b[38;5;28;01mif\u001b[39;00m msg_dtype \u001b[38;5;129;01mis\u001b[39;00m \u001b[38;5;129;01mnot\u001b[39;00m \u001b[38;5;28;01mNone\u001b[39;00m \u001b[38;5;28;01melse\u001b[39;00m X\u001b[38;5;241m.\u001b[39mdtype\n\u001b[0;32m    117\u001b[0m             )\n\u001b[0;32m    118\u001b[0m         )\n\u001b[0;32m    119\u001b[0m \u001b[38;5;66;03m# for object dtype data, we only check for NaNs (GH-13254)\u001b[39;00m\n\u001b[0;32m    120\u001b[0m \u001b[38;5;28;01melif\u001b[39;00m X\u001b[38;5;241m.\u001b[39mdtype \u001b[38;5;241m==\u001b[39m np\u001b[38;5;241m.\u001b[39mdtype(\u001b[38;5;124m\"\u001b[39m\u001b[38;5;124mobject\u001b[39m\u001b[38;5;124m\"\u001b[39m) \u001b[38;5;129;01mand\u001b[39;00m \u001b[38;5;129;01mnot\u001b[39;00m allow_nan:\n",
      "\u001b[1;31mValueError\u001b[0m: Input contains NaN, infinity or a value too large for dtype('float64')."
     ]
    }
   ],
   "source": [
    "# Matriz de confusion para Tree Regressor\n",
    "y_pred = pd.cut(y_pred.flatten(), bins=bins, labels=False)\n",
    "\n",
    "mc_tree_reg = confusion_matrix(y_test_clas, y_pred)\n",
    "ConfusionMatrixDisplay(confusion_matrix=mc_tree_reg).plot();\n",
    "\n",
    "# Almacenamos los datos\n",
    "mc['Arbol_reg'] = mc_tree_reg"
   ]
  },
  {
   "cell_type": "markdown",
   "id": "fdfdf447",
   "metadata": {},
   "source": [
    "**Clasificación**"
   ]
  },
  {
   "cell_type": "code",
   "execution_count": 39,
   "id": "8521d93d",
   "metadata": {},
   "outputs": [],
   "source": [
    "# Librerias\n",
    "from sklearn.tree import DecisionTreeClassifier\n",
    "from sklearn.model_selection import GridSearchCV"
   ]
  },
  {
   "cell_type": "markdown",
   "id": "ac17d72d",
   "metadata": {},
   "source": [
    "Como desconocemos la profundidad óptima, vamos a utilizar la función *GridSearchCV()* para hallarlo. "
   ]
  },
  {
   "cell_type": "code",
   "execution_count": 40,
   "id": "bec98205",
   "metadata": {},
   "outputs": [
    {
     "name": "stdout",
     "output_type": "stream",
     "text": [
      "Mejor hiperparámetro: {'max_depth': 9}\n"
     ]
    }
   ],
   "source": [
    "# Definimos el modelo\n",
    "tree_class = DecisionTreeClassifier()\n",
    "\n",
    "# Posibles profundidades \n",
    "ps = np.array(range(3,10))\n",
    "h_parameters = {'max_depth':ps}\n",
    "cv = GridSearchCV(tree_class, h_parameters,cv=10,n_jobs=-1,scoring = 'accuracy')\n",
    "cv.fit(X_train,y_train_clas)\n",
    "\n",
    "# Mejor profundidad\n",
    "cv.best_estimator_\n",
    "print('Mejor hiperparámetro:', cv.best_params_)"
   ]
  },
  {
   "cell_type": "markdown",
   "id": "9f52959b",
   "metadata": {},
   "source": [
    "Obtenemos así que la profundidad óptima es $\\text{max_depth}=9$"
   ]
  },
  {
   "cell_type": "code",
   "execution_count": 41,
   "id": "0b6f0a72",
   "metadata": {
    "scrolled": true
   },
   "outputs": [],
   "source": [
    "# Ajuste del modelo\n",
    "tree_class = DecisionTreeClassifier(max_depth=9, random_state=0)\n",
    "tree_class.fit(X_train,y_train_clas)\n",
    "\n",
    "# Hacemos predicciones sobre los datos de test\n",
    "y_pred_train_tree = tree_class.predict(X_train)\n",
    "# Hacemos predicciones sobre los datos de test\n",
    "y_pred_tree = tree_class.predict(X_test)"
   ]
  },
  {
   "cell_type": "markdown",
   "id": "bee43e25",
   "metadata": {},
   "source": [
    "En primer lugar, vemos cómo de bueno ha sido el entrenamiento."
   ]
  },
  {
   "cell_type": "code",
   "execution_count": 42,
   "id": "76f1d82c",
   "metadata": {
    "scrolled": true
   },
   "outputs": [
    {
     "name": "stdout",
     "output_type": "stream",
     "text": [
      "Accuracy train árbol:  0.8455553954761562\n"
     ]
    }
   ],
   "source": [
    "# Ajuste datos train\n",
    "acc_train_tree = accuracy_score(y_pred_train_tree, y_train_clas)\n",
    "print('Accuracy train árbol: ', acc_train_tree)"
   ]
  },
  {
   "cell_type": "markdown",
   "id": "beb4fe93",
   "metadata": {},
   "source": [
    "Estudiamos el ajuste del modelo a los datos de test"
   ]
  },
  {
   "cell_type": "code",
   "execution_count": 43,
   "id": "1afe6792",
   "metadata": {},
   "outputs": [
    {
     "name": "stdout",
     "output_type": "stream",
     "text": [
      "Accuracy test árbol:  0.7821848739495798\n"
     ]
    }
   ],
   "source": [
    "# Ajuste del modelo para los datos de test\n",
    "acc_test_tree = accuracy_score(y_pred_tree, y_test_clas)\n",
    "print('Accuracy test árbol: ', acc_test_tree)"
   ]
  },
  {
   "cell_type": "markdown",
   "id": "3ecfab77",
   "metadata": {},
   "source": [
    "Además, también podemos ver otras métricas con la función que habíamos definido previamente."
   ]
  },
  {
   "cell_type": "code",
   "execution_count": 45,
   "id": "1da0b010",
   "metadata": {
    "scrolled": false
   },
   "outputs": [
    {
     "data": {
      "image/png": "[encoded data removed]",
      "text/plain": [
       "<Figure size 432x288 with 2 Axes>"
      ]
     },
     "metadata": {
      "needs_background": "light"
     },
     "output_type": "display_data"
    }
   ],
   "source": [
    "# Grafico de matriz de confusion\n",
    "mc_tree = confusion_matrix(y_test_clas, y_pred_tree)\n",
    "ConfusionMatrixDisplay(confusion_matrix=mc_tree).plot();"
   ]
  },
  {
   "cell_type": "code",
   "execution_count": 46,
   "id": "588d35b7",
   "metadata": {},
   "outputs": [],
   "source": [
    "# Almacenamos los datos\n",
    "acc_test['Arbol'] = acc_test_tree\n",
    "acc_train['Arbol'] = acc_train_tree\n",
    "mc['Arbol'] = mc_tree\n",
    "precision['Arbol'] = precision_score(y_test_clas, y_pred_tree, average='weighted')\n",
    "recall['Arbol'] = recall_score(y_test_clas, y_pred_tree,average='weighted')"
   ]
  },
  {
   "cell_type": "markdown",
   "id": "f7787112",
   "metadata": {},
   "source": [
    "Además podemos ver en primer lugar el árbol de decisión y, en segundo lugar, un gráfico que nos ayuda a ver la relevancia de las variables a la hora de predecir el precio"
   ]
  },
  {
   "cell_type": "code",
   "execution_count": null,
   "id": "699650e0",
   "metadata": {},
   "outputs": [],
   "source": [
    "from sklearn import tree"
   ]
  },
  {
   "cell_type": "code",
   "execution_count": null,
   "id": "0d69b140",
   "metadata": {},
   "outputs": [],
   "source": [
    "# Arbol de decision\n",
    "plt.figure(figsize=(100,20))\n",
    "tree.plot_tree(tree_class, fontsize=10)\n",
    "plt.show()"
   ]
  },
  {
   "cell_type": "markdown",
   "id": "e6731cf8",
   "metadata": {},
   "source": [
    "También podemos estudiar qué variables son más relevantes a la hora de predecir el precio de las casas"
   ]
  },
  {
   "cell_type": "code",
   "execution_count": 47,
   "id": "d6d1d67c",
   "metadata": {},
   "outputs": [
    {
     "data": {
      "image/png": "[encoded data removed]",
      "text/plain": [
       "<Figure size 432x288 with 1 Axes>"
      ]
     },
     "metadata": {
      "needs_background": "light"
     },
     "output_type": "display_data"
    }
   ],
   "source": [
    "# Importancia de las varibales\n",
    "feature_importances = pd.Series(tree_class.feature_importances_, index=X_train.columns).sort_values(ascending=False)\n",
    "feature_importances.plot.bar();"
   ]
  },
  {
   "cell_type": "markdown",
   "id": "f3856964",
   "metadata": {},
   "source": [
    "## 3.4 Bagging"
   ]
  },
  {
   "cell_type": "markdown",
   "id": "8885e091",
   "metadata": {},
   "source": [
    "Los algoritmos de bagging son algoritmos de ensemble que tiene como objetivo reducir la varianza de cada uno de los algoritmos individuales agregando diferentes algoritmos y sus respectivas predicciones.\n",
    "\n",
    "Así, los algoritmos de bagging crean diferentes muestras boostrap con remplazaiento del conjunto de datos de entrenamiento, y cada método individual es entrenado en una de las diferentes remuestras creadas.\n",
    "\n",
    "Aunque se puede crear un propio algoritmo de ensemble, normalmente se suelen utilizar árboles de decisión. "
   ]
  },
  {
   "cell_type": "markdown",
   "id": "073dc6fc",
   "metadata": {},
   "source": [
    "**Regresión**"
   ]
  },
  {
   "cell_type": "code",
   "execution_count": 48,
   "id": "69acfbfc",
   "metadata": {},
   "outputs": [],
   "source": [
    "# Librerias \n",
    "from sklearn.ensemble import BaggingRegressor"
   ]
  },
  {
   "cell_type": "markdown",
   "id": "fb335407",
   "metadata": {},
   "source": [
    "En primer lugar, ajustamos el modelo tomando como modelos individuales 10 árboles regresores."
   ]
  },
  {
   "cell_type": "code",
   "execution_count": 49,
   "id": "c80736ad",
   "metadata": {},
   "outputs": [],
   "source": [
    "# Ajustamos el modelo\n",
    "bagg_reg = BaggingRegressor(base_estimator=DecisionTreeRegressor(),\n",
    "                        n_estimators=10, random_state=0).fit(X_train, y_train)\n",
    "# Hacemos predicciones\n",
    "y_pred = bagg_reg.predict(X_test)"
   ]
  },
  {
   "cell_type": "markdown",
   "id": "87900d38",
   "metadata": {},
   "source": [
    "Calculamos las métricas y el ajuste del modelo"
   ]
  },
  {
   "cell_type": "code",
   "execution_count": 50,
   "id": "cd910585",
   "metadata": {},
   "outputs": [
    {
     "name": "stdout",
     "output_type": "stream",
     "text": [
      "Root Mean squared error: 0.19\n",
      "Variance score: 0.84\n"
     ]
    }
   ],
   "source": [
    "# Medidas de error\n",
    "rmse_bagg = np.sqrt(mean_squared_error(y_test, y_pred))\n",
    "r2_bagg  = r2_score(y_test, y_pred)\n",
    "# Error Cuadrado Medio\n",
    "print(\"Root Mean squared error: %.2f\" % rmse_bagg)\n",
    "# Puntaje de Varianza\n",
    "print('Variance score: %.2f' % r2_bagg)"
   ]
  },
  {
   "cell_type": "markdown",
   "id": "3026136e",
   "metadata": {},
   "source": [
    "Almacenamos las métricas correspondientes"
   ]
  },
  {
   "cell_type": "code",
   "execution_count": 51,
   "id": "3cb9c9ba",
   "metadata": {},
   "outputs": [],
   "source": [
    "# Almacenamos los datos\n",
    "rmse['Bagg_Reg'] = rmse_bagg\n",
    "r2['Bagg_Reg'] = r2_bagg"
   ]
  },
  {
   "cell_type": "code",
   "execution_count": 52,
   "id": "dc1a0c4d",
   "metadata": {},
   "outputs": [
    {
     "data": {
      "image/png": "[encoded data removed]",
      "text/plain": [
       "<Figure size 432x288 with 2 Axes>"
      ]
     },
     "metadata": {
      "needs_background": "light"
     },
     "output_type": "display_data"
    }
   ],
   "source": [
    "# Matriz de confusion para Bagging Regressor\n",
    "y_pred = pd.cut(y_pred.flatten(), bins=bins, labels=False)\n",
    "\n",
    "mc_bagg_reg = confusion_matrix(y_test_clas, y_pred)\n",
    "ConfusionMatrixDisplay(confusion_matrix=mc_bagg_reg).plot();\n",
    "\n",
    "# Almacenamos los datos\n",
    "mc['Bagg_Reg'] = mc_bagg_reg"
   ]
  },
  {
   "cell_type": "markdown",
   "id": "aa31cf56",
   "metadata": {},
   "source": [
    "**Clasificación**"
   ]
  },
  {
   "cell_type": "code",
   "execution_count": 53,
   "id": "8f266e90",
   "metadata": {},
   "outputs": [],
   "source": [
    "# Librerias\n",
    "from sklearn.ensemble import BaggingClassifier"
   ]
  },
  {
   "cell_type": "markdown",
   "id": "f14e09aa",
   "metadata": {},
   "source": [
    "Primero, encontramos los hiperparámetros óptimos del modelo, esto es, el número de modelos individuales o \"*estimadores*\""
   ]
  },
  {
   "cell_type": "code",
   "execution_count": 54,
   "id": "9f14235b",
   "metadata": {},
   "outputs": [],
   "source": [
    "estimator_range = np.array(range(2,20,2))\n",
    "\n",
    "models = []\n",
    "scores = []\n",
    "\n",
    "for n_estimators in estimator_range:\n",
    "    clf = BaggingClassifier(n_estimators = n_estimators, random_state = 0)\n",
    "    clf.fit(X_train, y_train_clas)\n",
    "    models.append(clf)\n",
    "    scores.append(accuracy_score(y_true = y_test_clas, y_pred = clf.predict(X_test)))"
   ]
  },
  {
   "cell_type": "markdown",
   "id": "e0754eb9",
   "metadata": {},
   "source": [
    "Mediante un gráfico similar al de codo, vamos a estudiar los accuracies del modelo para, en base a ello, decidir el número de estimadores."
   ]
  },
  {
   "cell_type": "code",
   "execution_count": 55,
   "id": "66161060",
   "metadata": {
    "scrolled": true
   },
   "outputs": [
    {
     "data": {
      "image/png": "[encoded data removed]",
      "text/plain": [
       "<Figure size 648x432 with 1 Axes>"
      ]
     },
     "metadata": {
      "needs_background": "light"
     },
     "output_type": "display_data"
    }
   ],
   "source": [
    "# Grafico\n",
    "plt.figure(figsize=(9,6))\n",
    "\n",
    "plt.plot(estimator_range, scores)\n",
    "\n",
    "plt.xlabel(\"n_estimators\")\n",
    "plt.ylabel(\"score\")\n",
    "\n",
    "plt.show()"
   ]
  },
  {
   "cell_type": "markdown",
   "id": "ad7455ed",
   "metadata": {},
   "source": [
    "Así, decidimos utilizar $16$ árboles de decisión"
   ]
  },
  {
   "cell_type": "code",
   "execution_count": 56,
   "id": "d44fd2b7",
   "metadata": {},
   "outputs": [],
   "source": [
    "# Ajustamos el modelo\n",
    "clf = BaggingClassifier(base_estimator = DecisionTreeClassifier(), n_estimators = 16,random_state = 0)\n",
    "clf.fit(X_train, y_train_clas)\n",
    "\n",
    "# Hacemos predicciones sobre los datos de test\n",
    "y_pred_train_clf = clf.predict(X_train)\n",
    "# Hacemos predicciones sobre los datos de test\n",
    "y_pred_clf = clf.predict(X_test)"
   ]
  },
  {
   "cell_type": "markdown",
   "id": "424d3bec",
   "metadata": {},
   "source": [
    "Por un lado, vemos cómo de bueno ha sido el entrenamiento"
   ]
  },
  {
   "cell_type": "code",
   "execution_count": 57,
   "id": "c67b60af",
   "metadata": {},
   "outputs": [
    {
     "name": "stdout",
     "output_type": "stream",
     "text": [
      "Accuracy train Bagging:  0.992652355568362\n"
     ]
    }
   ],
   "source": [
    "# Ajuste datos train\n",
    "acc_train_clf = accuracy_score(y_pred_train_clf, y_train_clas)\n",
    "print('Accuracy train Bagging: ', acc_train_clf)"
   ]
  },
  {
   "cell_type": "markdown",
   "id": "24b7433f",
   "metadata": {},
   "source": [
    "Ahora, procedemos a ver el ajuste del modelo con los datos de test"
   ]
  },
  {
   "cell_type": "code",
   "execution_count": 58,
   "id": "c95144e8",
   "metadata": {},
   "outputs": [
    {
     "name": "stdout",
     "output_type": "stream",
     "text": [
      "Accuracy test Bagging:  0.8063865546218487\n"
     ]
    }
   ],
   "source": [
    "# Ajuste del modelo para los datos de test\n",
    "acc_test_clf = accuracy_score(y_pred_clf, y_test_clas)\n",
    "print('Accuracy test Bagging: ', acc_test_clf)"
   ]
  },
  {
   "cell_type": "code",
   "execution_count": 59,
   "id": "48f0c342",
   "metadata": {},
   "outputs": [
    {
     "data": {
      "image/png": "[encoded data removed]",
      "text/plain": [
       "<Figure size 432x288 with 2 Axes>"
      ]
     },
     "metadata": {
      "needs_background": "light"
     },
     "output_type": "display_data"
    }
   ],
   "source": [
    "# Grafico de matriz de confusion\n",
    "mc_clf = confusion_matrix(y_test_clas, y_pred_clf)\n",
    "ConfusionMatrixDisplay(confusion_matrix=mc_clf).plot();"
   ]
  },
  {
   "cell_type": "code",
   "execution_count": 60,
   "id": "5d154e86",
   "metadata": {},
   "outputs": [],
   "source": [
    "# Almacenamos los datos\n",
    "acc_test['Bagging'] = acc_test_clf\n",
    "acc_train['Bagging'] = acc_train_clf\n",
    "mc['Bagging'] = mc_clf\n",
    "precision['Bagging'] = precision_score(y_test_clas, y_pred_clf, average='weighted')\n",
    "recall['Bagging'] = recall_score(y_test_clas, y_pred_clf,average='weighted')"
   ]
  },
  {
   "cell_type": "markdown",
   "id": "3aba6bc3",
   "metadata": {},
   "source": [
    "## 3.5 Random Forest"
   ]
  },
  {
   "cell_type": "markdown",
   "id": "e2397792",
   "metadata": {},
   "source": [
    "Se trata de un modelo de ensemble que combia varios árboles de decisión para hacer predicciones. Así, cada árbol de decisión es entrenado en un subconjunto de los datos de entrenamiento elegido de manera aleatoria, lo que ayuda a reducir el problema de overfitting (o sobreajuste). Las predicciones se realizan teniendo en cuenta la clasificación mayoritaria de las predicciones de cada árbol individual.\n",
    "\n",
    "Se trata de un tipo específico de método de Bagging, pues además de usar muestras bootstrap de los datos de entrenamiento, cada árbol se entrena en un subconjunto aleatorio de características."
   ]
  },
  {
   "cell_type": "markdown",
   "id": "5a9180b0",
   "metadata": {},
   "source": [
    "**Regresión**"
   ]
  },
  {
   "cell_type": "code",
   "execution_count": 61,
   "id": "e4d78857",
   "metadata": {},
   "outputs": [],
   "source": [
    "# Librerias\n",
    "from sklearn.ensemble import RandomForestRegressor\n",
    "from sklearn.model_selection import RandomizedSearchCV"
   ]
  },
  {
   "cell_type": "markdown",
   "id": "7ab20c56",
   "metadata": {},
   "source": [
    "Como sucedía con los árboles de decisión, podemos utilizar técnicas de cross validation para hallar:\n",
    "* **n_estimators**: Número de árboles de decisión para el random forest. En general, el ajuste del modelo es mejor mayor es este hiperparámetro, pero también incrementa el coste computacional para realizar predicciones.\n",
    "* **max_depth**: La profundidad del árbol. Como ya vimos, si la profundidad es muy alta puede llevarnos a overfitting mientras que si es muy baja podremos tener problemas de underfitting."
   ]
  },
  {
   "cell_type": "markdown",
   "id": "6fb7679b",
   "metadata": {},
   "source": [
    "Es este caso vamos a utilizar la función RandomizedSearch()"
   ]
  },
  {
   "cell_type": "code",
   "execution_count": 62,
   "id": "f292ffce",
   "metadata": {},
   "outputs": [
    {
     "name": "stdout",
     "output_type": "stream",
     "text": [
      "Mejores hiperparámetros: {'n_estimators': 148, 'max_depth': 9}\n"
     ]
    }
   ],
   "source": [
    "# Posibles profundidades y estimadores \n",
    "ps = np.array(range(50,250))\n",
    "ns = np.array(range(3,10))\n",
    "\n",
    "h_parameters = {'n_estimators': ps,\n",
    "                'max_depth': ns}\n",
    "\n",
    "# Definimos el modelo\n",
    "rf = RandomForestRegressor()\n",
    "\n",
    "# Busqueda aleatorizada de hiperparametros \n",
    "rand_search = RandomizedSearchCV(rf, \n",
    "                                 param_distributions = h_parameters, \n",
    "                                 n_iter=5, \n",
    "                                 cv=5)\n",
    "rand_search.fit(X_train, y_train)\n",
    "\n",
    "# Mejores parametros\n",
    "best_rf = rand_search.best_estimator_\n",
    "print('Mejores hiperparámetros:',  rand_search.best_params_)"
   ]
  },
  {
   "cell_type": "markdown",
   "id": "b4c9418e",
   "metadata": {},
   "source": [
    "Con estos parámteros, podemos ajustar el modelo"
   ]
  },
  {
   "cell_type": "code",
   "execution_count": 63,
   "id": "36769483",
   "metadata": {},
   "outputs": [],
   "source": [
    "# Ajustamos el modelo\n",
    "rf = RandomForestRegressor(n_estimators=145,max_depth=7)\n",
    "rf.fit(X_train, y_train)\n",
    "\n",
    "# Hacemos predicciones sobre los datos de test\n",
    "y_pred = rf.predict(X_test)"
   ]
  },
  {
   "cell_type": "markdown",
   "id": "8cd5b2bd",
   "metadata": {},
   "source": [
    "Calculamos las métricas para ver el ajuste del modelo"
   ]
  },
  {
   "cell_type": "code",
   "execution_count": 64,
   "id": "b1a41245",
   "metadata": {},
   "outputs": [
    {
     "name": "stdout",
     "output_type": "stream",
     "text": [
      "Root Mean squared error: 0.21\n",
      "Variance score: 0.81\n"
     ]
    }
   ],
   "source": [
    "# Medidas de error\n",
    "rmse_rf = np.sqrt(mean_squared_error(y_test, y_pred))\n",
    "r2_rf  = r2_score(y_test, y_pred)\n",
    "# Error Cuadrado Medio\n",
    "print(\"Root Mean squared error: %.2f\" % rmse_rf)\n",
    "# Puntaje de Varianza. El mejor puntaje es un 1.0\n",
    "print('Variance score: %.2f' % r2_rf)"
   ]
  },
  {
   "cell_type": "code",
   "execution_count": 65,
   "id": "b6845f6b",
   "metadata": {},
   "outputs": [],
   "source": [
    "# Almacenamos los datos\n",
    "rmse['RandomForest'] = rmse_rf\n",
    "r2['RandomForest'] = r2_rf"
   ]
  },
  {
   "cell_type": "markdown",
   "id": "a6866d82",
   "metadata": {},
   "source": [
    "También podemos calcular la matriz de confusión"
   ]
  },
  {
   "cell_type": "code",
   "execution_count": 66,
   "id": "2f7102c8",
   "metadata": {},
   "outputs": [
    {
     "data": {
      "image/png": "[encoded data removed]",
      "text/plain": [
       "<Figure size 432x288 with 2 Axes>"
      ]
     },
     "metadata": {
      "needs_background": "light"
     },
     "output_type": "display_data"
    }
   ],
   "source": [
    "# Matriz de confusion para Random Forest\n",
    "y_pred = pd.cut(y_pred.flatten(), bins=bins, labels=False)\n",
    "\n",
    "mc_rf = confusion_matrix(y_test_clas, y_pred)\n",
    "ConfusionMatrixDisplay(confusion_matrix=mc_rf).plot();\n",
    "\n",
    "# Almacenamos los datos\n",
    "mc['RandomForest_Reg'] = mc_rf"
   ]
  },
  {
   "cell_type": "markdown",
   "id": "b2d4eea0",
   "metadata": {},
   "source": [
    "**Clasificación**"
   ]
  },
  {
   "cell_type": "code",
   "execution_count": 67,
   "id": "54cb73a3",
   "metadata": {},
   "outputs": [],
   "source": [
    "# Librerias\n",
    "from sklearn.ensemble import RandomForestClassifier\n",
    "from sklearn.model_selection import RandomizedSearchCV"
   ]
  },
  {
   "cell_type": "markdown",
   "id": "9044dd54",
   "metadata": {},
   "source": [
    "Procedemos, como en el caso anterior, buscando los hiperparámetros óptimos para el modelo."
   ]
  },
  {
   "cell_type": "code",
   "execution_count": 68,
   "id": "fccdb657",
   "metadata": {},
   "outputs": [
    {
     "name": "stdout",
     "output_type": "stream",
     "text": [
      "Mejores hiperparámetros: {'n_estimators': 224, 'max_depth': 7}\n"
     ]
    }
   ],
   "source": [
    "# Posibles profundidades y estimadores \n",
    "ps = np.array(range(50,250))\n",
    "ns = np.array(range(3,10))\n",
    "\n",
    "h_parameters = {'n_estimators': ps,\n",
    "              'max_depth': ns}\n",
    "\n",
    "# Definimos el modelo\n",
    "rf = RandomForestClassifier()\n",
    "\n",
    "# Busqueda aleatorizada de hiperparametros \n",
    "rand_search = RandomizedSearchCV(rf, \n",
    "                                 param_distributions = h_parameters, \n",
    "                                 n_iter=5, \n",
    "                                 cv=5)\n",
    "rand_search.fit(X_train, y_train_clas)\n",
    "\n",
    "# Mejores parametros\n",
    "best_rf = rand_search.best_estimator_\n",
    "print('Mejores hiperparámetros:',  rand_search.best_params_)"
   ]
  },
  {
   "cell_type": "markdown",
   "id": "cec3b58a",
   "metadata": {},
   "source": [
    "Así, ajustamos el modelo con los hiperparámetros encontrados"
   ]
  },
  {
   "cell_type": "code",
   "execution_count": 69,
   "id": "cfb71ef4",
   "metadata": {},
   "outputs": [],
   "source": [
    "# Ajustamos el modelo\n",
    "rf = RandomForestClassifier(n_estimators=197,max_depth=7)\n",
    "rf.fit(X_train, y_train_clas)\n",
    "\n",
    "# Hacemos predicciones sobre los datos de train\n",
    "y_pred_train_rf = rf.predict(X_train)\n",
    "# Hacemos predicciones sobre los datos de est\n",
    "y_pred_rf = rf.predict(X_test)"
   ]
  },
  {
   "cell_type": "markdown",
   "id": "1dde28b2",
   "metadata": {},
   "source": [
    "En primer lugar, vemos cómo de bueno ha sido el entrenamiento"
   ]
  },
  {
   "cell_type": "code",
   "execution_count": 70,
   "id": "7b0d889f",
   "metadata": {},
   "outputs": [
    {
     "name": "stdout",
     "output_type": "stream",
     "text": [
      "Accuracy train Random Forest:  0.789871776401095\n"
     ]
    }
   ],
   "source": [
    "# Ajuste datos train\n",
    "acc_train_rf = accuracy_score(y_pred_train_rf, y_train_clas)\n",
    "print('Accuracy train Random Forest: ', acc_train_rf)"
   ]
  },
  {
   "cell_type": "markdown",
   "id": "a4b3d381",
   "metadata": {},
   "source": [
    "Evaluamos el ajuste del modelo"
   ]
  },
  {
   "cell_type": "code",
   "execution_count": 71,
   "id": "62b363fb",
   "metadata": {},
   "outputs": [
    {
     "name": "stdout",
     "output_type": "stream",
     "text": [
      "Accuracy test Random Forest:  0.7689075630252101\n"
     ]
    }
   ],
   "source": [
    "# Ajuste del modelo para los datos de test\n",
    "acc_test_rf = accuracy_score(y_pred_rf, y_test_clas)\n",
    "print('Accuracy test Random Forest: ', acc_test_rf)"
   ]
  },
  {
   "cell_type": "code",
   "execution_count": 72,
   "id": "a47c0221",
   "metadata": {},
   "outputs": [
    {
     "data": {
      "image/png": "[encoded data removed]",
      "text/plain": [
       "<Figure size 432x288 with 2 Axes>"
      ]
     },
     "metadata": {
      "needs_background": "light"
     },
     "output_type": "display_data"
    }
   ],
   "source": [
    "# Grafico de matriz de confusion\n",
    "mc_rf = confusion_matrix(y_test_clas, y_pred_rf)\n",
    "ConfusionMatrixDisplay(confusion_matrix=mc_rf).plot();"
   ]
  },
  {
   "cell_type": "code",
   "execution_count": 73,
   "id": "b251a70e",
   "metadata": {},
   "outputs": [],
   "source": [
    "# Almacenamos los datos\n",
    "acc_test['RandomForest'] = acc_test_rf\n",
    "acc_train['RandomForest'] = acc_train_rf\n",
    "mc['RandomForest'] = mc_rf\n",
    "precision['RandomForest'] = precision_score(y_test_clas, y_pred_rf, average='weighted')\n",
    "recall['RandomForest'] = recall_score(y_test_clas, y_pred_rf,average='weighted')"
   ]
  },
  {
   "cell_type": "markdown",
   "id": "3585a056",
   "metadata": {},
   "source": [
    "También podemos ver la importancia de las varibles a la hora de predecir el precio de las casas"
   ]
  },
  {
   "cell_type": "code",
   "execution_count": 74,
   "id": "140e2b69",
   "metadata": {},
   "outputs": [
    {
     "data": {
      "image/png": "[encoded data removed]",
      "text/plain": [
       "<Figure size 432x288 with 1 Axes>"
      ]
     },
     "metadata": {
      "needs_background": "light"
     },
     "output_type": "display_data"
    }
   ],
   "source": [
    "feature_importances = pd.Series(best_rf.feature_importances_, index=X_train.columns).sort_values(ascending=False)\n",
    "feature_importances.plot.bar();"
   ]
  },
  {
   "cell_type": "markdown",
   "id": "174664c9",
   "metadata": {},
   "source": [
    "## 3.6 GradientBoost"
   ]
  },
  {
   "cell_type": "markdown",
   "id": "b5b3968b",
   "metadata": {},
   "source": [
    "**METER TEORIA + TEXTOS**"
   ]
  },
  {
   "cell_type": "markdown",
   "id": "100f940e",
   "metadata": {},
   "source": [
    "**Regresión**"
   ]
  },
  {
   "cell_type": "code",
   "execution_count": 75,
   "id": "4cf3d207",
   "metadata": {},
   "outputs": [],
   "source": [
    "# Librerias\n",
    "from sklearn.ensemble import GradientBoostingRegressor"
   ]
  },
  {
   "cell_type": "code",
   "execution_count": null,
   "id": "6edf0c74",
   "metadata": {},
   "outputs": [],
   "source": [
    "# Hiperparametros"
   ]
  },
  {
   "cell_type": "code",
   "execution_count": 76,
   "id": "bda84b5b",
   "metadata": {},
   "outputs": [],
   "source": [
    "# Ajustamos el modelo\n",
    "gb = GradientBoostingRegressor()\n",
    "gb.fit(X_train, y_train)\n",
    "\n",
    "# Hacemos predicciones en test\n",
    "y_pred = gb.predict(X_test)"
   ]
  },
  {
   "cell_type": "code",
   "execution_count": 77,
   "id": "c605b060",
   "metadata": {},
   "outputs": [
    {
     "name": "stdout",
     "output_type": "stream",
     "text": [
      "Root Mean squared error: 0.20\n",
      "Variance score: 0.82\n"
     ]
    }
   ],
   "source": [
    "# Medidas de error\n",
    "rmse_gb = np.sqrt(mean_squared_error(y_test, y_pred))\n",
    "r2_gb  = r2_score(y_test, y_pred)\n",
    "# Error Cuadrado Medio\n",
    "print(\"Root Mean squared error: %.2f\" % rmse_gb)\n",
    "# Puntaje de Varianza. El mejor puntaje es un 1.0\n",
    "print('Variance score: %.2f' % r2_gb)\n",
    "\n",
    "# Almacenamos los datos\n",
    "rmse['GradientBoost'] = rmse_gb\n",
    "r2['GradientBoost'] = r2_gb"
   ]
  },
  {
   "cell_type": "code",
   "execution_count": 78,
   "id": "abf16ea9",
   "metadata": {},
   "outputs": [
    {
     "data": {
      "image/png": "[encoded data removed]",
      "text/plain": [
       "<Figure size 432x288 with 2 Axes>"
      ]
     },
     "metadata": {
      "needs_background": "light"
     },
     "output_type": "display_data"
    }
   ],
   "source": [
    "# Matriz de confusion para Random Forest\n",
    "y_pred = pd.cut(y_pred.flatten(), bins=bins, labels=False)\n",
    "\n",
    "mc_gb_reg = confusion_matrix(y_test_clas, y_pred)\n",
    "ConfusionMatrixDisplay(confusion_matrix=mc_gb_reg).plot();\n",
    "\n",
    "# Almacenamos los datos\n",
    "mc['GB_Regg'] = mc_gb_reg"
   ]
  },
  {
   "cell_type": "markdown",
   "id": "0c0680f2",
   "metadata": {},
   "source": [
    "**Clasificación**"
   ]
  },
  {
   "cell_type": "code",
   "execution_count": 79,
   "id": "34a0356b",
   "metadata": {},
   "outputs": [],
   "source": [
    "# Librerias\n",
    "from sklearn.ensemble import GradientBoostingClassifier"
   ]
  },
  {
   "cell_type": "code",
   "execution_count": 80,
   "id": "d6517ba4",
   "metadata": {},
   "outputs": [],
   "source": [
    "# Ajustamos el modelo\n",
    "gb = GradientBoostingClassifier()\n",
    "gb.fit(X_train, y_train_clas)\n",
    "\n",
    "# Hacemos predicciones sobre los datos de train\n",
    "y_pred_train_gb = gb.predict(X_train)\n",
    "# Hacemos predicciones sobre los datos de est\n",
    "y_pred_gb = gb.predict(X_test)"
   ]
  },
  {
   "cell_type": "code",
   "execution_count": 81,
   "id": "4098268c",
   "metadata": {
    "scrolled": true
   },
   "outputs": [
    {
     "name": "stdout",
     "output_type": "stream",
     "text": [
      "Accuracy train Gradient Boost:  0.8253133554242904\n"
     ]
    }
   ],
   "source": [
    "# Ajuste datos train\n",
    "acc_train_gb = accuracy_score(y_pred_train_gb, y_train_clas)\n",
    "print('Accuracy train Gradient Boost: ', acc_train_gb)"
   ]
  },
  {
   "cell_type": "code",
   "execution_count": 82,
   "id": "368f3bbd",
   "metadata": {
    "scrolled": true
   },
   "outputs": [
    {
     "name": "stdout",
     "output_type": "stream",
     "text": [
      "Accuracy test Gradient Boost:  0.7976470588235294\n"
     ]
    }
   ],
   "source": [
    "# Ajuste del modelo para los datos de test\n",
    "acc_test_gb = accuracy_score(y_pred_gb, y_test_clas)\n",
    "print('Accuracy test Gradient Boost: ', acc_test_gb)"
   ]
  },
  {
   "cell_type": "code",
   "execution_count": 83,
   "id": "f96be14b",
   "metadata": {
    "scrolled": true
   },
   "outputs": [
    {
     "data": {
      "image/png": "[encoded data removed]",
      "text/plain": [
       "<Figure size 432x288 with 2 Axes>"
      ]
     },
     "metadata": {
      "needs_background": "light"
     },
     "output_type": "display_data"
    }
   ],
   "source": [
    "# Grafico de matriz de confusion\n",
    "mc_gb = confusion_matrix(y_test_clas, y_pred_gb)\n",
    "ConfusionMatrixDisplay(confusion_matrix=mc_gb).plot();"
   ]
  },
  {
   "cell_type": "code",
   "execution_count": 84,
   "id": "0d91ab27",
   "metadata": {},
   "outputs": [],
   "source": [
    "# Almacenamos los datos\n",
    "acc_test['GradientBoost'] = acc_test_gb\n",
    "acc_train['GradientBoost'] = acc_train_gb\n",
    "mc['GradientBoost'] = mc_gb\n",
    "precision['GradientBoost'] = precision_score(y_test_clas, y_pred_gb, average='weighted')\n",
    "recall['GradientBoost'] = recall_score(y_test_clas, y_pred_gb,average='weighted')"
   ]
  },
  {
   "cell_type": "markdown",
   "id": "c4c8bd51",
   "metadata": {},
   "source": [
    "## 3.7 XGBoost"
   ]
  },
  {
   "cell_type": "markdown",
   "id": "5d149bbc",
   "metadata": {},
   "source": [
    "**METER TEORIA + TEXTOS**"
   ]
  },
  {
   "cell_type": "markdown",
   "id": "2a684df1",
   "metadata": {},
   "source": [
    "**Regresión**"
   ]
  },
  {
   "cell_type": "code",
   "execution_count": null,
   "id": "05b463ee",
   "metadata": {},
   "outputs": [],
   "source": [
    "#!pip install xgboost"
   ]
  },
  {
   "cell_type": "code",
   "execution_count": 85,
   "id": "5417cc57",
   "metadata": {},
   "outputs": [],
   "source": [
    "# Librerias\n",
    "from xgboost import XGBRegressor"
   ]
  },
  {
   "cell_type": "code",
   "execution_count": 86,
   "id": "00dc4e8f",
   "metadata": {},
   "outputs": [],
   "source": [
    "# Ajustamos el modelo\n",
    "xgb_reg = XGBRegressor()\n",
    "xgb_reg.fit(X_train, y_train)\n",
    "\n",
    "# Hacemos predicciones en test\n",
    "y_pred = xgb_reg.predict(X_test)"
   ]
  },
  {
   "cell_type": "code",
   "execution_count": 87,
   "id": "82ec74fd",
   "metadata": {},
   "outputs": [
    {
     "name": "stdout",
     "output_type": "stream",
     "text": [
      "Root Mean squared error: 0.20\n",
      "Variance score: 0.82\n"
     ]
    }
   ],
   "source": [
    "# Medidas de error\n",
    "rmse_xgb = np.sqrt(mean_squared_error(y_test, y_pred))\n",
    "r2_xgb  = r2_score(y_test, y_pred)\n",
    "# Error Cuadrado Medio\n",
    "print(\"Root Mean squared error: %.2f\" % rmse_gb)\n",
    "# Puntaje de Varianza. El mejor puntaje es un 1.0\n",
    "print('Variance score: %.2f' % r2_gb)\n",
    "\n",
    "# Almacenamos los datos\n",
    "rmse['GradientBoost'] = rmse_gb\n",
    "r2['GradientBoost'] = r2_gb"
   ]
  },
  {
   "cell_type": "code",
   "execution_count": 88,
   "id": "62e85720",
   "metadata": {},
   "outputs": [
    {
     "data": {
      "image/png": "[encoded data removed]",
      "text/plain": [
       "<Figure size 432x288 with 2 Axes>"
      ]
     },
     "metadata": {
      "needs_background": "light"
     },
     "output_type": "display_data"
    }
   ],
   "source": [
    "# Matriz de confusion para Random Forest\n",
    "y_pred = pd.cut(y_pred.flatten(), bins=bins, labels=False)\n",
    "\n",
    "mc_xgb_reg = confusion_matrix(y_test_clas, y_pred)\n",
    "ConfusionMatrixDisplay(confusion_matrix=mc_xgb_reg).plot();\n",
    "\n",
    "# Almacenamos los datos\n",
    "mc['XGBoost_Regg'] = mc_xgb_reg"
   ]
  },
  {
   "cell_type": "markdown",
   "id": "ec9dc929",
   "metadata": {},
   "source": [
    "**Clasificación**"
   ]
  },
  {
   "cell_type": "code",
   "execution_count": 89,
   "id": "7e844bd8",
   "metadata": {},
   "outputs": [],
   "source": [
    "# Librerias\n",
    "from xgboost import XGBClassifier"
   ]
  },
  {
   "cell_type": "code",
   "execution_count": 90,
   "id": "e20e949a",
   "metadata": {},
   "outputs": [],
   "source": [
    "# Ajustamos el modelo\n",
    "xgb = XGBClassifier()\n",
    "xgb.fit(X_train, y_train_clas)\n",
    "\n",
    "# Hacemos predicciones sobre los datos de train\n",
    "y_pred_train_xgb = xgb.predict(X_train)\n",
    "# Hacemos predicciones sobre los datos de est\n",
    "y_pred_xgb = xgb.predict(X_test)"
   ]
  },
  {
   "cell_type": "code",
   "execution_count": 91,
   "id": "30653be4",
   "metadata": {},
   "outputs": [
    {
     "name": "stdout",
     "output_type": "stream",
     "text": [
      "Accuracy train XGBoost:  0.9460452384382654\n"
     ]
    }
   ],
   "source": [
    "# Ajuste datos train\n",
    "acc_train_xgb = accuracy_score(y_pred_train_xgb, y_train_clas)\n",
    "print('Accuracy train XGBoost: ', acc_train_xgb)"
   ]
  },
  {
   "cell_type": "code",
   "execution_count": 92,
   "id": "6dbaca10",
   "metadata": {},
   "outputs": [
    {
     "name": "stdout",
     "output_type": "stream",
     "text": [
      "Accuracy test XGBoost:  0.8273949579831933\n"
     ]
    }
   ],
   "source": [
    "# Ajuste datos test\n",
    "acc_test_xgb = accuracy_score(y_pred_xgb, y_test_clas)\n",
    "print('Accuracy test XGBoost: ', acc_test_xgb)"
   ]
  },
  {
   "cell_type": "code",
   "execution_count": 93,
   "id": "c5e5a2a4",
   "metadata": {},
   "outputs": [
    {
     "data": {
      "image/png": "[encoded data removed]",
      "text/plain": [
       "<Figure size 432x288 with 2 Axes>"
      ]
     },
     "metadata": {
      "needs_background": "light"
     },
     "output_type": "display_data"
    }
   ],
   "source": [
    "# Grafico de matriz de confusion\n",
    "mc_xgb = confusion_matrix(y_test_clas, y_pred_xgb)\n",
    "ConfusionMatrixDisplay(confusion_matrix=mc_xgb).plot();"
   ]
  },
  {
   "cell_type": "code",
   "execution_count": 94,
   "id": "cc3c7090",
   "metadata": {},
   "outputs": [],
   "source": [
    "# Almacenamos los datos\n",
    "acc_test['XGBoost'] = acc_test_xgb\n",
    "acc_train['XGBoost'] = acc_train_xgb\n",
    "mc['XGBoost'] = mc_gb\n",
    "precision['XGBoost'] = precision_score(y_test_clas, y_pred_xgb, average='weighted')\n",
    "recall['XGBoost'] = recall_score(y_test_clas, y_pred_xgb,average='weighted')"
   ]
  },
  {
   "cell_type": "markdown",
   "id": "5bd3ca48",
   "metadata": {},
   "source": [
    "# 4. Comparación de modelos"
   ]
  },
  {
   "cell_type": "markdown",
   "id": "22f7cd3d",
   "metadata": {},
   "source": [
    "Por lo general, la métrica más conveniente dependerá de para qué se quiera utilizar las predicciones del modelo.\n",
    "\n",
    "Supongamos que el modelo es para un banco que va a tasar casas para, posteriormente, conceder un préstamo. Así, es importante que cuando una casa sea tasada como *CARA* ($2$) esta sea realemente así, pues si el cliente no es capaz de devolver el préstamo el banco tendrá más pérdidas.\n",
    "\n",
    "Teniendo en cuenta esto, las métricas más relevantes en este caso serían, fijándonose en la matriz de confusión:\n",
    "1. Que los valores que realmente pertenecen a la clase 2 y se han predicho en clases inferiores (principalmente en la clase 0) sean bajos. Esto también podemos verlo como que el recall de la clase 2 sea lo más alto posible.\n",
    "2. Que los valores que realmente pertenecen a la clase 1 y se han predicho en clases inferiores (la 0 únicamente en este caso) sean bajos. Equivale a que el recall de la clase 1 sea lo más alto posible."
   ]
  },
  {
   "cell_type": "markdown",
   "id": "72fd3131",
   "metadata": {},
   "source": [
    "Así, podemos ver los modelos ordenados según los siguientes criterios:"
   ]
  },
  {
   "cell_type": "markdown",
   "id": "e3c38fa9",
   "metadata": {},
   "source": [
    "**Orden por Accuracy en Test**"
   ]
  },
  {
   "cell_type": "code",
   "execution_count": 95,
   "id": "e60899fd",
   "metadata": {},
   "outputs": [
    {
     "data": {
      "text/plain": [
       "{'XGBoost': 0.8273949579831933,\n",
       " 'Bagging': 0.8063865546218487,\n",
       " 'GradientBoost': 0.7976470588235294,\n",
       " 'Arbol': 0.7821848739495798,\n",
       " 'knn': 0.7768067226890756,\n",
       " 'RandomForest': 0.7689075630252101}"
      ]
     },
     "execution_count": 95,
     "metadata": {},
     "output_type": "execute_result"
    }
   ],
   "source": [
    "acc_ordenados = dict(sorted(acc_test.items(), key=lambda item: item[1], reverse=True))\n",
    "acc_ordenados"
   ]
  },
  {
   "cell_type": "markdown",
   "id": "ae090548",
   "metadata": {},
   "source": [
    "**Orden por R2**"
   ]
  },
  {
   "cell_type": "code",
   "execution_count": 96,
   "id": "2059620b",
   "metadata": {},
   "outputs": [
    {
     "data": {
      "text/plain": [
       "{'Bagg_Reg': 0.8396723287438999,\n",
       " 'GradientBoost': 0.8243573324084132,\n",
       " 'RandomForest': 0.8106010432226203,\n",
       " 'KNN': 0.7939790211542018,\n",
       " 'Arbol': 0.7256433182030639,\n",
       " 'LR': 0.6318841748614481}"
      ]
     },
     "execution_count": 96,
     "metadata": {},
     "output_type": "execute_result"
    }
   ],
   "source": [
    "r2_ordenados = dict(sorted(r2.items(), key=lambda item: item[1], reverse=True))\n",
    "r2_ordenados"
   ]
  },
  {
   "cell_type": "markdown",
   "id": "04f6243d",
   "metadata": {},
   "source": [
    "**Orden según métrica definida al comienzo del apartado**"
   ]
  },
  {
   "cell_type": "code",
   "execution_count": 97,
   "id": "72850507",
   "metadata": {
    "scrolled": true
   },
   "outputs": [
    {
     "data": {
      "text/plain": [
       "{'XGBoost_Regg': array([[1721,  244,   10],\n",
       "        [ 216, 1564,  247],\n",
       "        [   2,  287, 1659]], dtype=int64),\n",
       " 'GB_Regg': array([[1637,  323,   15],\n",
       "        [ 240, 1478,  309],\n",
       "        [   4,  333, 1611]], dtype=int64),\n",
       " 'Bagg_Reg': array([[1696,  267,   12],\n",
       "        [ 242, 1513,  272],\n",
       "        [   5,  320, 1623]], dtype=int64),\n",
       " 'RandomForest_Reg': array([[1603,  361,   11],\n",
       "        [ 247, 1506,  274],\n",
       "        [   7,  399, 1542]], dtype=int64),\n",
       " 'Bagging': array([[1720,  244,   11],\n",
       "        [ 288, 1458,  281],\n",
       "        [   8,  320, 1620]], dtype=int64),\n",
       " 'GradientBoost': array([[1674,  286,   15],\n",
       "        [ 263, 1496,  268],\n",
       "        [   8,  364, 1576]], dtype=int64),\n",
       " 'XGBoost': array([[1674,  286,   15],\n",
       "        [ 263, 1496,  268],\n",
       "        [   8,  364, 1576]], dtype=int64),\n",
       " 'knn_reg': array([[1655,  306,   14],\n",
       "        [ 277, 1429,  321],\n",
       "        [  14,  359, 1575]], dtype=int64),\n",
       " 'RandomForest': array([[1607,  348,   20],\n",
       "        [ 261, 1471,  295],\n",
       "        [  21,  430, 1497]], dtype=int64),\n",
       " 'Arbol': array([[1660,  304,   11],\n",
       "        [ 291, 1499,  237],\n",
       "        [  25,  428, 1495]], dtype=int64),\n",
       " 'LR': array([[1326,  605,   44],\n",
       "        [ 328, 1234,  465],\n",
       "        [  36,  553, 1359]], dtype=int64),\n",
       " 'knn': array([[1697,  259,   19],\n",
       "        [ 333, 1383,  311],\n",
       "        [  41,  365, 1542]], dtype=int64)}"
      ]
     },
     "execution_count": 97,
     "metadata": {},
     "output_type": "execute_result"
    }
   ],
   "source": [
    "modelos_ordenados = dict(sorted(mc.items(), key=lambda item: item[1][2][0]))\n",
    "modelos_ordenados"
   ]
  },
  {
   "cell_type": "markdown",
   "id": "21e88944",
   "metadata": {},
   "source": [
    "Obtenemos la siguiente clasificación de los modelos:\n",
    "1. XGBoost Regressor\n",
    "2. GradientBoost Regressor\n",
    "3. Bagging Regressor\n",
    "4. Random Forest Regressor\n",
    "5. Gradient Boost\n",
    "6. XGBoost\n",
    "7. KNN Regressor\n",
    "8. Random Forest\n",
    "9. Bagging\n",
    "10. KNN\n",
    "11. Tree\n",
    "12. Tree Regressor\n",
    "13. Linear Regression"
   ]
  },
  {
   "cell_type": "markdown",
   "id": "6d6439d7",
   "metadata": {},
   "source": [
    "## 4.1 Problema de regresión"
   ]
  },
  {
   "cell_type": "markdown",
   "id": "807cb760",
   "metadata": {},
   "source": [
    "Por lo general, los algoritmos desde el punto de vista de la regresión obtienen mejores resultados. Esto puede deberse a que la naturaleza del problema es de regresión, ya que tenemos una variable target *y* continua. "
   ]
  },
  {
   "cell_type": "markdown",
   "id": "06ad81ce",
   "metadata": {},
   "source": [
    "## 4.2 Problema de clasificación"
   ]
  },
  {
   "cell_type": "markdown",
   "id": "7a93d26e",
   "metadata": {},
   "source": [
    "Al convertir el problema a clasificación, hemos obtenido peores resultados. Sin embargo, aumentando el número de clases inicial probablemente podríamos tener mayor precisión."
   ]
  },
  {
   "cell_type": "markdown",
   "id": "872c6fcb",
   "metadata": {},
   "source": [
    "# 5. Conclusiones"
   ]
  },
  {
   "cell_type": "markdown",
   "id": "ec14b16e",
   "metadata": {},
   "source": [
    "Otra parte importante es saber qué variables son importantes a la hora de predecir el precio de las casas. En los diferentes algoritmos hemos estado viendo gráficos de *feature_importance* donde estudiamos el peso de cada variable en la regresión o clasificación. En todos los casos, obteníamos algo similar a:"
   ]
  },
  {
   "cell_type": "code",
   "execution_count": null,
   "id": "47ee86ae",
   "metadata": {
    "scrolled": true
   },
   "outputs": [],
   "source": [
    "feature_importances = pd.Series(best_rf.feature_importances_, index=X_train.columns).sort_values(ascending=False)\n",
    "feature_importances.plot.bar();"
   ]
  },
  {
   "cell_type": "markdown",
   "id": "114ea543",
   "metadata": {},
   "source": [
    "Así, parece que una de las componentes más importantes es la localización de la casa (en particular, su latitud), seguido de la superficie de la casa y el número (conjunto) de habitaciones y baños."
   ]
  }
 ],
 "metadata": {
  "kernelspec": {
   "display_name": "Python 3 (ipykernel)",
   "language": "python",
   "name": "python3"
  },
  "language_info": {
   "codemirror_mode": {
    "name": "ipython",
    "version": 3
   },
   "file_extension": ".py",
   "mimetype": "text/x-python",
   "name": "python",
   "nbconvert_exporter": "python",
   "pygments_lexer": "ipython3",
   "version": "3.9.12"
  }
 },
 "nbformat": 4,
 "nbformat_minor": 5
}
